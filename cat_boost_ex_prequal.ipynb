{
 "cells": [
  {
   "cell_type": "code",
   "execution_count": 1,
   "metadata": {},
   "outputs": [],
   "source": [
    "import os\n",
    "import pandas as pd\n",
    "import numpy as np\n",
    "from catboost import CatBoostClassifier,Pool,cv\n",
    "from sklearn.metrics import roc_curve, auc, roc_auc_score\n",
    "from sklearn import metrics\n",
    "import random \n"
   ]
  },
  {
   "cell_type": "code",
   "execution_count": 2,
   "metadata": {},
   "outputs": [],
   "source": [
    "curr_ym_num=201908\n",
    "data_dir=\"/home/k2uxam/data/DU_data/\""
   ]
  },
  {
   "cell_type": "code",
   "execution_count": 3,
   "metadata": {},
   "outputs": [],
   "source": [
    "from os import listdir\n",
    "\n",
    "def find_csv_filenames( path_to_dir, suffix=\".csv\" ):\n",
    "    filenames = listdir(path_to_dir)\n",
    "    return [ filename for filename in filenames if filename.endswith( suffix ) ]"
   ]
  },
  {
   "cell_type": "code",
   "execution_count": 4,
   "metadata": {},
   "outputs": [
    {
     "name": "stdout",
     "output_type": "stream",
     "text": [
      "du_apps_201808.csv\n",
      "du_apps_201904.csv\n",
      "du_apps_201810.csv\n",
      "du_apps_201905.csv\n",
      "du_apps_201901.csv\n",
      "du_apps_201812.csv\n",
      "du_apps_201907.csv\n",
      "du_apps_201903.csv\n",
      "du_apps_201811.csv\n",
      "du_apps_201809.csv\n",
      "du_apps_201906.csv\n",
      "du_apps_201908.csv\n",
      "du_apps_201902.csv\n",
      "['du_apps_201808.csv', 'du_apps_201809.csv', 'du_apps_201810.csv', 'du_apps_201811.csv', 'du_apps_201812.csv', 'du_apps_201901.csv', 'du_apps_201902.csv', 'du_apps_201903.csv', 'du_apps_201904.csv', 'du_apps_201905.csv', 'du_apps_201906.csv', 'du_apps_201907.csv', 'du_apps_201908.csv']\n"
     ]
    }
   ],
   "source": [
    "filenames = find_csv_filenames(data_dir)\n",
    "for name in filenames:\n",
    "  print(name)\n",
    "\n",
    "file_sort_name=sorted(filenames)\n",
    "print(file_sort_name)"
   ]
  },
  {
   "cell_type": "code",
   "execution_count": 5,
   "metadata": {},
   "outputs": [],
   "source": [
    "du_files=list() #10:19-"
   ]
  },
  {
   "cell_type": "code",
   "execution_count": 6,
   "metadata": {},
   "outputs": [
    {
     "name": "stderr",
     "output_type": "stream",
     "text": [
      "/home/k2uxam/mypython/lib/python2.7/site-packages/IPython/core/interactiveshell.py:2714: DtypeWarning: Columns (36,37,67,69,71,73,76,78,79,91,94) have mixed types. Specify dtype option on import or set low_memory=False.\n",
      "  interactivity=interactivity, compiler=compiler, result=result)\n",
      "/home/k2uxam/mypython/lib/python2.7/site-packages/IPython/core/interactiveshell.py:2714: DtypeWarning: Columns (36,67,69,71,73,76,91) have mixed types. Specify dtype option on import or set low_memory=False.\n",
      "  interactivity=interactivity, compiler=compiler, result=result)\n",
      "/home/k2uxam/mypython/lib/python2.7/site-packages/IPython/core/interactiveshell.py:2714: DtypeWarning: Columns (3,4,36,37,67,69,71,73,76,78,79,91,94) have mixed types. Specify dtype option on import or set low_memory=False.\n",
      "  interactivity=interactivity, compiler=compiler, result=result)\n",
      "/home/k2uxam/mypython/lib/python2.7/site-packages/IPython/core/interactiveshell.py:2714: DtypeWarning: Columns (36,37,67,69,71,73,76,78,79,91) have mixed types. Specify dtype option on import or set low_memory=False.\n",
      "  interactivity=interactivity, compiler=compiler, result=result)\n",
      "/home/k2uxam/mypython/lib/python2.7/site-packages/IPython/core/interactiveshell.py:2714: DtypeWarning: Columns (36,62,67,69,71,73,76,91) have mixed types. Specify dtype option on import or set low_memory=False.\n",
      "  interactivity=interactivity, compiler=compiler, result=result)\n",
      "/home/k2uxam/mypython/lib/python2.7/site-packages/IPython/core/interactiveshell.py:2714: DtypeWarning: Columns (62,67,69,71,73,76,91) have mixed types. Specify dtype option on import or set low_memory=False.\n",
      "  interactivity=interactivity, compiler=compiler, result=result)\n",
      "/home/k2uxam/mypython/lib/python2.7/site-packages/IPython/core/interactiveshell.py:2714: DtypeWarning: Columns (62,73) have mixed types. Specify dtype option on import or set low_memory=False.\n",
      "  interactivity=interactivity, compiler=compiler, result=result)\n"
     ]
    }
   ],
   "source": [
    "for i in range(0,12):\n",
    "    monthly_file=pd.read_csv((data_dir+file_sort_name[i]),sep='|')\n",
    "\n",
    "    du_files.insert(i,monthly_file)"
   ]
  },
  {
   "cell_type": "code",
   "execution_count": 7,
   "metadata": {},
   "outputs": [],
   "source": [
    "duapp_df=pd.concat(du_files)\n"
   ]
  },
  {
   "cell_type": "code",
   "execution_count": 8,
   "metadata": {},
   "outputs": [],
   "source": [
    "duapp_df_clean = duapp_df[(duapp_df['PREQUAL_FLG'] != 1) & (duapp_df['LAST_CASEFILE_INSTID'] == 1) & \n",
    "         (~(duapp_df['LN_RPTG_TYP_DESC'].str.contains('Federal Housing Administration') | duapp_df['LN_RPTG_TYP_DESC'].str.contains('Veterans Affairs'))) &\n",
    "        (duapp_df['REFI_PLUS_IND'] == 0 ) & (duapp_df['CASE_FICO_NO'] >=620) ]"
   ]
  },
  {
   "cell_type": "code",
   "execution_count": 9,
   "metadata": {},
   "outputs": [
    {
     "name": "stderr",
     "output_type": "stream",
     "text": [
      "/home/k2uxam/mypython/lib/python2.7/site-packages/ipykernel_launcher.py:2: SettingWithCopyWarning: \n",
      "A value is trying to be set on a copy of a slice from a DataFrame.\n",
      "Try using .loc[row_indexer,col_indexer] = value instead\n",
      "\n",
      "See the caveats in the documentation: http://pandas.pydata.org/pandas-docs/stable/indexing.html#indexing-view-versus-copy\n",
      "  \n"
     ]
    }
   ],
   "source": [
    "duapp_df_clean.dropna(subset=['BRWR_TOT_DTI_RTO_PCT'])\n",
    "duapp_df_clean['ACQ_FLAG'] = np.where(duapp_df_clean.FNMA_LN.isna(),0,1)"
   ]
  },
  {
   "cell_type": "code",
   "execution_count": 10,
   "metadata": {},
   "outputs": [
    {
     "data": {
      "text/plain": [
       "(1533950, 100)"
      ]
     },
     "execution_count": 10,
     "metadata": {},
     "output_type": "execute_result"
    }
   ],
   "source": [
    "inSample_acq=duapp_df_clean[(duapp_df_clean['ACQ_FLAG'] == 1)]\n",
    "inSample_acq.shape"
   ]
  },
  {
   "cell_type": "code",
   "execution_count": 11,
   "metadata": {},
   "outputs": [
    {
     "data": {
      "text/plain": [
       "(4496370, 100)"
      ]
     },
     "execution_count": 11,
     "metadata": {},
     "output_type": "execute_result"
    }
   ],
   "source": [
    "inSample_unacq=duapp_df_clean[(duapp_df_clean['ACQ_FLAG'] == 0)]\n",
    "inSample_unacq.shape"
   ]
  },
  {
   "cell_type": "code",
   "execution_count": 12,
   "metadata": {},
   "outputs": [
    {
     "data": {
      "text/plain": [
       "(1533950, 100)"
      ]
     },
     "execution_count": 12,
     "metadata": {},
     "output_type": "execute_result"
    }
   ],
   "source": [
    "inSample_unacq_B= inSample_unacq.sample(inSample_acq.shape[0])\n",
    "inSample_unacq_B.shape"
   ]
  },
  {
   "cell_type": "code",
   "execution_count": 13,
   "metadata": {},
   "outputs": [
    {
     "data": {
      "text/html": [
       "<div>\n",
       "<style scoped>\n",
       "    .dataframe tbody tr th:only-of-type {\n",
       "        vertical-align: middle;\n",
       "    }\n",
       "\n",
       "    .dataframe tbody tr th {\n",
       "        vertical-align: top;\n",
       "    }\n",
       "\n",
       "    .dataframe thead th {\n",
       "        text-align: right;\n",
       "    }\n",
       "</style>\n",
       "<table border=\"1\" class=\"dataframe\">\n",
       "  <thead>\n",
       "    <tr style=\"text-align: right;\">\n",
       "      <th></th>\n",
       "      <th>GROSMTHLYINCMAMT</th>\n",
       "      <th>BRWR_TOT_DTI_RTO_PCT</th>\n",
       "      <th>LN_APPL_INT_RT</th>\n",
       "      <th>LN_CLCD_LN_TO_VAL_RTO_PCT</th>\n",
       "      <th>PROP_APPRD_VAL_AMT</th>\n",
       "      <th>UWRG_LN_APPL_AMT</th>\n",
       "      <th>SUBCOUNT</th>\n",
       "      <th>UPBDIFF</th>\n",
       "      <th>CASE_FICO_NO</th>\n",
       "      <th>LN_COMB_LN_TO_VAL_RTO_PCT</th>\n",
       "      <th>...</th>\n",
       "      <th>PIW_OFR_IND</th>\n",
       "      <th>FRSTTMHMBYRIND</th>\n",
       "      <th>HIGHBAL</th>\n",
       "      <th>LN_AMRT_TYP_CD</th>\n",
       "      <th>LN_GUAR_TYP_CD</th>\n",
       "      <th>LN_PURPS_TYP_DESC</th>\n",
       "      <th>PRODFLG</th>\n",
       "      <th>PROP_USG_TYP_ID</th>\n",
       "      <th>PROP_CATG_TYP_ID</th>\n",
       "      <th>LN_RPTG_TYP_DESC</th>\n",
       "    </tr>\n",
       "  </thead>\n",
       "  <tbody>\n",
       "    <tr>\n",
       "      <th>18</th>\n",
       "      <td>8947.74</td>\n",
       "      <td>31.289</td>\n",
       "      <td>4.125</td>\n",
       "      <td>69.0</td>\n",
       "      <td>525000.0</td>\n",
       "      <td>360000.0</td>\n",
       "      <td>12.0</td>\n",
       "      <td>0.0</td>\n",
       "      <td>731</td>\n",
       "      <td>69.0</td>\n",
       "      <td>...</td>\n",
       "      <td>0</td>\n",
       "      <td>1</td>\n",
       "      <td>0</td>\n",
       "      <td>1</td>\n",
       "      <td>1</td>\n",
       "      <td>Purchase</td>\n",
       "      <td>1</td>\n",
       "      <td>1</td>\n",
       "      <td>9</td>\n",
       "      <td>Conforming</td>\n",
       "    </tr>\n",
       "    <tr>\n",
       "      <th>19</th>\n",
       "      <td>11833.33</td>\n",
       "      <td>29.112</td>\n",
       "      <td>5.500</td>\n",
       "      <td>92.0</td>\n",
       "      <td>501000.0</td>\n",
       "      <td>442000.0</td>\n",
       "      <td>7.0</td>\n",
       "      <td>-3500.0</td>\n",
       "      <td>660</td>\n",
       "      <td>92.0</td>\n",
       "      <td>...</td>\n",
       "      <td>0</td>\n",
       "      <td>1</td>\n",
       "      <td>0</td>\n",
       "      <td>1</td>\n",
       "      <td>1</td>\n",
       "      <td>Purchase</td>\n",
       "      <td>1</td>\n",
       "      <td>1</td>\n",
       "      <td>4</td>\n",
       "      <td>Conforming</td>\n",
       "    </tr>\n",
       "    <tr>\n",
       "      <th>20</th>\n",
       "      <td>8333.34</td>\n",
       "      <td>28.662</td>\n",
       "      <td>4.250</td>\n",
       "      <td>80.0</td>\n",
       "      <td>385000.0</td>\n",
       "      <td>296812.0</td>\n",
       "      <td>5.0</td>\n",
       "      <td>0.0</td>\n",
       "      <td>723</td>\n",
       "      <td>80.0</td>\n",
       "      <td>...</td>\n",
       "      <td>0</td>\n",
       "      <td>1</td>\n",
       "      <td>0</td>\n",
       "      <td>1</td>\n",
       "      <td>1</td>\n",
       "      <td>Purchase</td>\n",
       "      <td>1</td>\n",
       "      <td>1</td>\n",
       "      <td>4</td>\n",
       "      <td>Conforming</td>\n",
       "    </tr>\n",
       "    <tr>\n",
       "      <th>21</th>\n",
       "      <td>7291.67</td>\n",
       "      <td>30.126</td>\n",
       "      <td>4.875</td>\n",
       "      <td>90.0</td>\n",
       "      <td>214000.0</td>\n",
       "      <td>189000.0</td>\n",
       "      <td>5.0</td>\n",
       "      <td>0.0</td>\n",
       "      <td>766</td>\n",
       "      <td>90.0</td>\n",
       "      <td>...</td>\n",
       "      <td>0</td>\n",
       "      <td>1</td>\n",
       "      <td>0</td>\n",
       "      <td>1</td>\n",
       "      <td>1</td>\n",
       "      <td>Purchase</td>\n",
       "      <td>1</td>\n",
       "      <td>1</td>\n",
       "      <td>3</td>\n",
       "      <td>Conforming</td>\n",
       "    </tr>\n",
       "  </tbody>\n",
       "</table>\n",
       "<p>4 rows × 28 columns</p>\n",
       "</div>"
      ],
      "text/plain": [
       "    GROSMTHLYINCMAMT  BRWR_TOT_DTI_RTO_PCT  LN_APPL_INT_RT  \\\n",
       "18           8947.74                31.289           4.125   \n",
       "19          11833.33                29.112           5.500   \n",
       "20           8333.34                28.662           4.250   \n",
       "21           7291.67                30.126           4.875   \n",
       "\n",
       "    LN_CLCD_LN_TO_VAL_RTO_PCT  PROP_APPRD_VAL_AMT  UWRG_LN_APPL_AMT  SUBCOUNT  \\\n",
       "18                       69.0            525000.0          360000.0      12.0   \n",
       "19                       92.0            501000.0          442000.0       7.0   \n",
       "20                       80.0            385000.0          296812.0       5.0   \n",
       "21                       90.0            214000.0          189000.0       5.0   \n",
       "\n",
       "    UPBDIFF  CASE_FICO_NO  LN_COMB_LN_TO_VAL_RTO_PCT  ...  PIW_OFR_IND  \\\n",
       "18      0.0           731                       69.0  ...            0   \n",
       "19  -3500.0           660                       92.0  ...            0   \n",
       "20      0.0           723                       80.0  ...            0   \n",
       "21      0.0           766                       90.0  ...            0   \n",
       "\n",
       "    FRSTTMHMBYRIND  HIGHBAL  LN_AMRT_TYP_CD  LN_GUAR_TYP_CD  \\\n",
       "18               1        0               1               1   \n",
       "19               1        0               1               1   \n",
       "20               1        0               1               1   \n",
       "21               1        0               1               1   \n",
       "\n",
       "    LN_PURPS_TYP_DESC  PRODFLG  PROP_USG_TYP_ID  PROP_CATG_TYP_ID  \\\n",
       "18           Purchase        1                1                 9   \n",
       "19           Purchase        1                1                 4   \n",
       "20           Purchase        1                1                 4   \n",
       "21           Purchase        1                1                 3   \n",
       "\n",
       "    LN_RPTG_TYP_DESC  \n",
       "18        Conforming  \n",
       "19        Conforming  \n",
       "20        Conforming  \n",
       "21        Conforming  \n",
       "\n",
       "[4 rows x 28 columns]"
      ]
     },
     "execution_count": 13,
     "metadata": {},
     "output_type": "execute_result"
    }
   ],
   "source": [
    "inSample_data= inSample_acq.append(inSample_unacq_B)\n",
    "train_data = inSample_data[[\"GROSMTHLYINCMAMT\",\"BRWR_TOT_DTI_RTO_PCT\",\"LN_APPL_INT_RT\",\"LN_CLCD_LN_TO_VAL_RTO_PCT\",\"PROP_APPRD_VAL_AMT\",\"UWRG_LN_APPL_AMT\",\"SUBCOUNT\",\"UPBDIFF\",\"CASE_FICO_NO\",\"LN_COMB_LN_TO_VAL_RTO_PCT\",\"LN_MTRY_TERM_MTHS_NO\",\"LN_BRWR_CNT\",\"NOMTHSRESVS\",\"MTHLYHSNGEXP\",\"TOTMNTHLYHSNGEXP\",\"ELGCHG\",\"TRIAL_LENDER\",\"DU_ELGB_IND\",\"PIW_OFR_IND\",\"FRSTTMHMBYRIND\",\"HIGHBAL\",\"LN_AMRT_TYP_CD\",\"LN_GUAR_TYP_CD\",\"LN_PURPS_TYP_DESC\",\"PRODFLG\",\"PROP_USG_TYP_ID\",\"PROP_CATG_TYP_ID\",\"LN_RPTG_TYP_DESC\"]]\n",
    "train_data[1:5]"
   ]
  },
  {
   "cell_type": "code",
   "execution_count": 14,
   "metadata": {},
   "outputs": [],
   "source": [
    "label = inSample_data.ACQ_FLAG\n",
    "#label"
   ]
  },
  {
   "cell_type": "code",
   "execution_count": 15,
   "metadata": {},
   "outputs": [
    {
     "data": {
      "text/plain": [
       "array([3.25955866e-07, 3.25955866e-07, 3.25955866e-07, ...,\n",
       "       3.25955866e-07, 3.25955866e-07, 3.25955866e-07])"
      ]
     },
     "execution_count": 15,
     "metadata": {},
     "output_type": "execute_result"
    }
   ],
   "source": [
    "w=1.00/inSample_data.shape[0]\n",
    "weight = np.repeat(w,inSample_data.shape[0])\n",
    "weight"
   ]
  },
  {
   "cell_type": "code",
   "execution_count": 16,
   "metadata": {
    "scrolled": true
   },
   "outputs": [
    {
     "data": {
      "text/plain": [
       "[15, 16, 17, 18, 19, 20, 21, 22, 23, 24, 25, 26, 27]"
      ]
     },
     "execution_count": 16,
     "metadata": {},
     "output_type": "execute_result"
    }
   ],
   "source": [
    "\n",
    "cat_features=range(15,28)\n",
    "cat_features"
   ]
  },
  {
   "cell_type": "code",
   "execution_count": 17,
   "metadata": {},
   "outputs": [
    {
     "name": "stdout",
     "output_type": "stream",
     "text": [
      "Learning rate set to 0.5\n",
      "0:\tlearn: 0.5912126\ttotal: 22.6ms\tremaining: 1.11s\n",
      "1:\tlearn: 0.5600727\ttotal: 43.4ms\tremaining: 1.04s\n",
      "2:\tlearn: 0.5456629\ttotal: 64.2ms\tremaining: 1s\n",
      "3:\tlearn: 0.5392600\ttotal: 85.3ms\tremaining: 981ms\n",
      "4:\tlearn: 0.5360730\ttotal: 106ms\tremaining: 957ms\n",
      "5:\tlearn: 0.5326340\ttotal: 127ms\tremaining: 935ms\n",
      "6:\tlearn: 0.5303328\ttotal: 148ms\tremaining: 911ms\n",
      "7:\tlearn: 0.5285673\ttotal: 170ms\tremaining: 891ms\n",
      "8:\tlearn: 0.5258107\ttotal: 191ms\tremaining: 869ms\n",
      "9:\tlearn: 0.5247003\ttotal: 211ms\tremaining: 844ms\n",
      "10:\tlearn: 0.5238763\ttotal: 232ms\tremaining: 822ms\n",
      "11:\tlearn: 0.5227679\ttotal: 252ms\tremaining: 799ms\n",
      "12:\tlearn: 0.5218708\ttotal: 272ms\tremaining: 776ms\n",
      "13:\tlearn: 0.5212188\ttotal: 293ms\tremaining: 753ms\n",
      "14:\tlearn: 0.5202294\ttotal: 314ms\tremaining: 732ms\n",
      "15:\tlearn: 0.5191645\ttotal: 334ms\tremaining: 709ms\n",
      "16:\tlearn: 0.5186497\ttotal: 354ms\tremaining: 688ms\n",
      "17:\tlearn: 0.5182839\ttotal: 374ms\tremaining: 665ms\n",
      "18:\tlearn: 0.5176639\ttotal: 394ms\tremaining: 643ms\n",
      "19:\tlearn: 0.5172997\ttotal: 414ms\tremaining: 621ms\n",
      "20:\tlearn: 0.5169156\ttotal: 434ms\tremaining: 599ms\n",
      "21:\tlearn: 0.5163762\ttotal: 453ms\tremaining: 576ms\n",
      "22:\tlearn: 0.5160510\ttotal: 473ms\tremaining: 555ms\n",
      "23:\tlearn: 0.5157215\ttotal: 493ms\tremaining: 534ms\n",
      "24:\tlearn: 0.5152973\ttotal: 513ms\tremaining: 513ms\n",
      "25:\tlearn: 0.5150019\ttotal: 533ms\tremaining: 492ms\n",
      "26:\tlearn: 0.5144560\ttotal: 553ms\tremaining: 471ms\n",
      "27:\tlearn: 0.5140134\ttotal: 572ms\tremaining: 450ms\n",
      "28:\tlearn: 0.5135001\ttotal: 592ms\tremaining: 429ms\n",
      "29:\tlearn: 0.5131870\ttotal: 612ms\tremaining: 408ms\n",
      "30:\tlearn: 0.5128498\ttotal: 632ms\tremaining: 387ms\n",
      "31:\tlearn: 0.5126420\ttotal: 652ms\tremaining: 367ms\n",
      "32:\tlearn: 0.5122880\ttotal: 672ms\tremaining: 346ms\n",
      "33:\tlearn: 0.5121463\ttotal: 692ms\tremaining: 325ms\n",
      "34:\tlearn: 0.5118707\ttotal: 712ms\tremaining: 305ms\n",
      "35:\tlearn: 0.5116088\ttotal: 732ms\tremaining: 285ms\n",
      "36:\tlearn: 0.5113872\ttotal: 752ms\tremaining: 264ms\n",
      "37:\tlearn: 0.5110559\ttotal: 772ms\tremaining: 244ms\n",
      "38:\tlearn: 0.5108258\ttotal: 791ms\tremaining: 223ms\n",
      "39:\tlearn: 0.5107008\ttotal: 811ms\tremaining: 203ms\n",
      "40:\tlearn: 0.5105342\ttotal: 831ms\tremaining: 182ms\n",
      "41:\tlearn: 0.5103544\ttotal: 850ms\tremaining: 162ms\n",
      "42:\tlearn: 0.5101930\ttotal: 870ms\tremaining: 142ms\n",
      "43:\tlearn: 0.5099159\ttotal: 889ms\tremaining: 121ms\n",
      "44:\tlearn: 0.5097055\ttotal: 909ms\tremaining: 101ms\n",
      "45:\tlearn: 0.5095893\ttotal: 929ms\tremaining: 80.7ms\n",
      "46:\tlearn: 0.5094596\ttotal: 948ms\tremaining: 60.5ms\n",
      "47:\tlearn: 0.5092826\ttotal: 968ms\tremaining: 40.3ms\n",
      "48:\tlearn: 0.5091604\ttotal: 987ms\tremaining: 20.1ms\n",
      "49:\tlearn: 0.5089716\ttotal: 1.01s\tremaining: 0us\n"
     ]
    },
    {
     "data": {
      "text/plain": [
       "<catboost.core.CatBoostClassifier at 0x7fc2e3273a10>"
      ]
     },
     "execution_count": 17,
     "metadata": {},
     "output_type": "execute_result"
    }
   ],
   "source": [
    "\n",
    "model=CatBoostClassifier(iterations=50,depth=6,task_type=\"GPU\",devices='0:1')\n",
    "model.fit(train_data,label,cat_features=cat_features)#sample_weight default =1"
   ]
  },
  {
   "cell_type": "markdown",
   "metadata": {},
   "source": [
    "#cv and out-of-sample\n",
    "cv_dataset=Pool(data=train_data,\n",
    "               label=label,\n",
    "               cat_features=cat_features)\n",
    "params = {\"iterations\": 100,\n",
    "          \"depth\": 5,\n",
    "          \"loss_function\": \"Logloss\",\n",
    "          \"roc_file\":\"roc-file\"\n",
    "         }\n",
    "scores = cv(cv_dataset,\n",
    "            params,\n",
    "            fold_count=10, \n",
    "            plot=\"True\")\n",
    "#save in_sample Results"
   ]
  },
  {
   "cell_type": "code",
   "execution_count": 18,
   "metadata": {},
   "outputs": [],
   "source": [
    "inSample_unbal=duapp_df_clean[[\"GROSMTHLYINCMAMT\",\"BRWR_TOT_DTI_RTO_PCT\",\"LN_APPL_INT_RT\",\"LN_CLCD_LN_TO_VAL_RTO_PCT\",\"PROP_APPRD_VAL_AMT\",\"UWRG_LN_APPL_AMT\",\"SUBCOUNT\",\"UPBDIFF\",\"CASE_FICO_NO\",\"LN_COMB_LN_TO_VAL_RTO_PCT\",\"LN_MTRY_TERM_MTHS_NO\",\"LN_BRWR_CNT\",\"NOMTHSRESVS\",\"MTHLYHSNGEXP\",\"TOTMNTHLYHSNGEXP\",\"ELGCHG\",\"TRIAL_LENDER\",\"DU_ELGB_IND\",\"PIW_OFR_IND\",\"FRSTTMHMBYRIND\",\"HIGHBAL\",\"LN_AMRT_TYP_CD\",\"LN_GUAR_TYP_CD\",\"LN_PURPS_TYP_DESC\",\"PRODFLG\",\"PROP_USG_TYP_ID\",\"PROP_CATG_TYP_ID\",\"LN_RPTG_TYP_DESC\",\"ACQ_FLAG\"]].dropna()\n",
    "du_pred_prob=model.predict_proba(inSample_unbal)\n"
   ]
  },
  {
   "cell_type": "code",
   "execution_count": 19,
   "metadata": {},
   "outputs": [],
   "source": [
    "list_inSample_res=[]\n",
    "list_inSample_res.append(inSample_unbal)\n",
    "list_inSample_res.append(du_pred_prob)"
   ]
  },
  {
   "cell_type": "code",
   "execution_count": 20,
   "metadata": {},
   "outputs": [],
   "source": [
    "survival_ratio=[x[1] for x in du_pred_prob]"
   ]
  },
  {
   "cell_type": "code",
   "execution_count": 21,
   "metadata": {},
   "outputs": [
    {
     "data": {
      "text/plain": [
       "0.8169024628847207"
      ]
     },
     "execution_count": 21,
     "metadata": {},
     "output_type": "execute_result"
    }
   ],
   "source": [
    "auc_score_inSample = metrics.roc_auc_score(inSample_unbal.ACQ_FLAG,survival_ratio)\n",
    "auc_score_inSample"
   ]
  },
  {
   "cell_type": "code",
   "execution_count": 22,
   "metadata": {},
   "outputs": [
    {
     "name": "stderr",
     "output_type": "stream",
     "text": [
      "/home/k2uxam/mypython/lib/python2.7/site-packages/IPython/core/interactiveshell.py:2714: DtypeWarning: Columns (62,67,69,71,73,79,91) have mixed types. Specify dtype option on import or set low_memory=False.\n",
      "  interactivity=interactivity, compiler=compiler, result=result)\n"
     ]
    }
   ],
   "source": [
    "#import one-month outofsample DU and test\n",
    "outSample_df=pd.read_csv('/home/k2uxam/data/DU_data/du_apps_201908.csv',sep='|')\n",
    "outSample_df = outSample_df[(outSample_df['LAST_CASEFILE_INSTID'] == 1) & \n",
    "         (~(outSample_df['LN_RPTG_TYP_DESC'].str.contains('Federal Housing Administration') | outSample_df['LN_RPTG_TYP_DESC'].str.contains('Veterans Affairs'))) &\n",
    "        (outSample_df['REFI_PLUS_IND'] == 0 ) & (outSample_df['CASE_FICO_NO'] >=620) ]\n",
    "outSample_df.dropna(subset=['BRWR_TOT_DTI_RTO_PCT'])\n",
    "outSample_df['ACQ_FLAG'] = np.where(outSample_df.FNMA_LN.isna(),0,1)\n",
    "outSample_clean=outSample_df[[\"GROSMTHLYINCMAMT\",\"BRWR_TOT_DTI_RTO_PCT\",\"LN_APPL_INT_RT\",\"LN_CLCD_LN_TO_VAL_RTO_PCT\",\"PROP_APPRD_VAL_AMT\",\"UWRG_LN_APPL_AMT\",\"SUBCOUNT\",\"UPBDIFF\",\"CASE_FICO_NO\",\"LN_COMB_LN_TO_VAL_RTO_PCT\",\"LN_MTRY_TERM_MTHS_NO\",\"LN_BRWR_CNT\",\"NOMTHSRESVS\",\"MTHLYHSNGEXP\",\"TOTMNTHLYHSNGEXP\",\"ELGCHG\",\"TRIAL_LENDER\",\"DU_ELGB_IND\",\"PIW_OFR_IND\",\"FRSTTMHMBYRIND\",\"HIGHBAL\",\"LN_AMRT_TYP_CD\",\"LN_GUAR_TYP_CD\",\"LN_PURPS_TYP_DESC\",\"PRODFLG\",\"PROP_USG_TYP_ID\",\"PROP_CATG_TYP_ID\",\"LN_RPTG_TYP_DESC\",\"ACQ_FLAG\"]].dropna()\n",
    "outSample_pred_prob=model.predict_proba(outSample_clean)\n"
   ]
  },
  {
   "cell_type": "code",
   "execution_count": 23,
   "metadata": {},
   "outputs": [
    {
     "data": {
      "text/plain": [
       "0.7621749797463062"
      ]
     },
     "execution_count": 23,
     "metadata": {},
     "output_type": "execute_result"
    }
   ],
   "source": [
    "# calculate AUC for out-of sample\n",
    "outSample_survival_ratio=[x[1] for x in outSample_pred_prob]\n",
    "outSample_auc_score = metrics.roc_auc_score(outSample_clean.ACQ_FLAG,outSample_survival_ratio)\n",
    "outSample_auc_score"
   ]
  },
  {
   "cell_type": "code",
   "execution_count": 24,
   "metadata": {},
   "outputs": [],
   "source": [
    "#create synthetic profile\n",
    "\n",
    "pull_through=pd.read_csv('/home/k2uxam/testing_folder/pull_through_exc_prequals.csv')\n",
    "pull_through_rate=pull_through.x"
   ]
  },
  {
   "cell_type": "code",
   "execution_count": 25,
   "metadata": {},
   "outputs": [
    {
     "data": {
      "text/plain": [
       "0     0.001236\n",
       "1     0.001552\n",
       "2     0.002312\n",
       "3     0.003314\n",
       "4     0.004580\n",
       "5     0.007814\n",
       "6     0.014010\n",
       "7     0.032095\n",
       "8     0.078973\n",
       "9     0.131621\n",
       "10    0.066083\n",
       "11    0.002439\n",
       "Name: x, dtype: float64"
      ]
     },
     "execution_count": 25,
     "metadata": {},
     "output_type": "execute_result"
    }
   ],
   "source": [
    "pull_through_rate"
   ]
  },
  {
   "cell_type": "code",
   "execution_count": 26,
   "metadata": {},
   "outputs": [
    {
     "data": {
      "text/plain": [
       "['du_apps_201808.csv',\n",
       " 'du_apps_201809.csv',\n",
       " 'du_apps_201810.csv',\n",
       " 'du_apps_201811.csv',\n",
       " 'du_apps_201812.csv',\n",
       " 'du_apps_201901.csv',\n",
       " 'du_apps_201902.csv',\n",
       " 'du_apps_201903.csv',\n",
       " 'du_apps_201904.csv',\n",
       " 'du_apps_201905.csv',\n",
       " 'du_apps_201906.csv',\n",
       " 'du_apps_201907.csv',\n",
       " 'du_apps_201908.csv']"
      ]
     },
     "execution_count": 26,
     "metadata": {},
     "output_type": "execute_result"
    }
   ],
   "source": [
    "file_sort_name"
   ]
  },
  {
   "cell_type": "code",
   "execution_count": 27,
   "metadata": {},
   "outputs": [
    {
     "name": "stderr",
     "output_type": "stream",
     "text": [
      "/home/k2uxam/mypython/lib/python2.7/site-packages/ipykernel_launcher.py:8: SettingWithCopyWarning: \n",
      "A value is trying to be set on a copy of a slice from a DataFrame.\n",
      "Try using .loc[row_indexer,col_indexer] = value instead\n",
      "\n",
      "See the caveats in the documentation: http://pandas.pydata.org/pandas-docs/stable/indexing.html#indexing-view-versus-copy\n",
      "  \n"
     ]
    },
    {
     "name": "stdout",
     "output_type": "stream",
     "text": [
      "iteration\n",
      "(686162, 29)\n",
      "(848, 29)\n",
      "iteration\n",
      "(557795, 29)\n",
      "(866, 29)\n",
      "iteration\n",
      "(610927, 29)\n",
      "(1413, 29)\n",
      "iteration\n",
      "(503813, 29)\n",
      "(1670, 29)\n",
      "iteration\n",
      "(429644, 29)\n",
      "(1968, 29)\n",
      "iteration\n",
      "(637794, 29)\n",
      "(4984, 29)\n",
      "iteration\n",
      "(622479, 29)\n",
      "(8721, 29)\n",
      "iteration\n",
      "(769286, 29)\n",
      "(24690, 29)\n",
      "iteration\n",
      "(831570, 29)\n",
      "(65672, 29)\n",
      "iteration\n",
      "(807598, 29)\n",
      "(106297, 29)\n",
      "iteration\n",
      "(842095, 29)\n",
      "(55648, 29)\n",
      "iteration\n",
      "(878865, 29)\n",
      "(2143, 29)\n"
     ]
    }
   ],
   "source": [
    "synthetic_list=[]\n",
    "for i in range(0,12):\n",
    "    du_monthly_data=du_files[i]\n",
    "    du_monthly_data = du_monthly_data[(du_monthly_data['LAST_CASEFILE_INSTID'] == 1) & \n",
    "         (~(du_monthly_data['LN_RPTG_TYP_DESC'].str.contains('Federal Housing Administration') | du_monthly_data['LN_RPTG_TYP_DESC'].str.contains('Veterans Affairs'))) &\n",
    "        (du_monthly_data['REFI_PLUS_IND'] == 0 ) & (du_monthly_data['CASE_FICO_NO'] >=620) ]\n",
    "    du_monthly_data.dropna(subset=['BRWR_TOT_DTI_RTO_PCT'])\n",
    "    du_monthly_data['ACQ_FLAG'] = np.where(du_monthly_data.FNMA_LN.isna(),0,1)\n",
    "    du_monthly_final=du_monthly_data[[\"GROSMTHLYINCMAMT\",\"BRWR_TOT_DTI_RTO_PCT\",\"LN_APPL_INT_RT\",\"LN_CLCD_LN_TO_VAL_RTO_PCT\",\"PROP_APPRD_VAL_AMT\",\"UWRG_LN_APPL_AMT\",\"SUBCOUNT\",\"UPBDIFF\",\"CASE_FICO_NO\",\"LN_COMB_LN_TO_VAL_RTO_PCT\",\"LN_MTRY_TERM_MTHS_NO\",\"LN_BRWR_CNT\",\"NOMTHSRESVS\",\"MTHLYHSNGEXP\",\"TOTMNTHLYHSNGEXP\",\"ELGCHG\",\"TRIAL_LENDER\",\"DU_ELGB_IND\",\"PIW_OFR_IND\",\"FRSTTMHMBYRIND\",\"HIGHBAL\",\"LN_AMRT_TYP_CD\",\"LN_GUAR_TYP_CD\",\"LN_PURPS_TYP_DESC\",\"PRODFLG\",\"PROP_USG_TYP_ID\",\"PROP_CATG_TYP_ID\",\"LN_RPTG_TYP_DESC\",\"ACQ_FLAG\"]].dropna()\n",
    "    print('iteration')\n",
    "    print(du_monthly_final.shape)\n",
    "    monthly_syn_data=du_monthly_final.sample(frac=(pull_through_rate[(i)]))\n",
    "    print(monthly_syn_data.shape)\n",
    "    synthetic_list.append(monthly_syn_data)"
   ]
  },
  {
   "cell_type": "code",
   "execution_count": 28,
   "metadata": {},
   "outputs": [],
   "source": [
    "synthetic_df=pd.concat(synthetic_list)"
   ]
  },
  {
   "cell_type": "code",
   "execution_count": 29,
   "metadata": {},
   "outputs": [
    {
     "data": {
      "text/plain": [
       "(274920, 29)"
      ]
     },
     "execution_count": 29,
     "metadata": {},
     "output_type": "execute_result"
    }
   ],
   "source": [
    "synthetic_df.shape #figure out the issue here"
   ]
  },
  {
   "cell_type": "code",
   "execution_count": 30,
   "metadata": {},
   "outputs": [],
   "source": [
    "#synthetic_df.to_csv('/home/k2uxam/testing_folder/catboost_synthetic_201908_exc_prequal.csv')\n"
   ]
  },
  {
   "cell_type": "code",
   "execution_count": null,
   "metadata": {},
   "outputs": [],
   "source": []
  }
 ],
 "metadata": {
  "kernelspec": {
   "display_name": "Python 3",
   "language": "python",
   "name": "python3"
  },
  "language_info": {
   "codemirror_mode": {
    "name": "ipython",
    "version": 2
   },
   "file_extension": ".py",
   "mimetype": "text/x-python",
   "name": "python",
   "nbconvert_exporter": "python",
   "pygments_lexer": "ipython2",
   "version": "2.7.15"
  }
 },
 "nbformat": 4,
 "nbformat_minor": 2
}
